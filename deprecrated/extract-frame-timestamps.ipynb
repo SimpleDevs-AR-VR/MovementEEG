{
 "cells": [
  {
   "cell_type": "code",
   "execution_count": 2,
   "id": "549414a6",
   "metadata": {},
   "outputs": [
    {
     "name": "stdout",
     "output_type": "stream",
     "text": [
      "Defaulting to user installation because normal site-packages is not writeable\n",
      "Collecting av\n",
      "  Downloading av-14.2.0-cp310-cp310-win_amd64.whl (30.9 MB)\n",
      "     --------------------------------------- 30.9/30.9 MB 26.2 MB/s eta 0:00:00\n",
      "Installing collected packages: av\n",
      "Successfully installed av-14.2.0\n"
     ]
    },
    {
     "name": "stderr",
     "output_type": "stream",
     "text": [
      "WARNING: Ignoring invalid distribution -illow (c:\\users\\ryan kim\\appdata\\roaming\\python\\python310\\site-packages)\n",
      "WARNING: Ignoring invalid distribution -illow (c:\\users\\ryan kim\\appdata\\roaming\\python\\python310\\site-packages)\n",
      "WARNING: Ignoring invalid distribution -illow (c:\\users\\ryan kim\\appdata\\roaming\\python\\python310\\site-packages)\n",
      "  WARNING: The script pyav.exe is installed in 'C:\\Users\\Ryan Kim\\AppData\\Roaming\\Python\\Python310\\Scripts' which is not on PATH.\n",
      "  Consider adding this directory to PATH or, if you prefer to suppress this warning, use --no-warn-script-location.\n",
      "WARNING: Ignoring invalid distribution -illow (c:\\users\\ryan kim\\appdata\\roaming\\python\\python310\\site-packages)\n",
      "WARNING: Ignoring invalid distribution -illow (c:\\users\\ryan kim\\appdata\\roaming\\python\\python310\\site-packages)\n",
      "WARNING: Ignoring invalid distribution -illow (c:\\users\\ryan kim\\appdata\\roaming\\python\\python310\\site-packages)\n",
      "WARNING: Ignoring invalid distribution -illow (c:\\users\\ryan kim\\appdata\\roaming\\python\\python310\\site-packages)\n"
     ]
    }
   ],
   "source": [
    "!pip install av"
   ]
  },
  {
   "cell_type": "code",
   "execution_count": 34,
   "id": "324b2cb9",
   "metadata": {
    "scrolled": true
   },
   "outputs": [],
   "source": [
    "import av\n",
    "import time\n",
    "import cv2\n",
    "import numpy as np\n",
    "import pandas as pd\n",
    "from pathlib import Path\n",
    "import os"
   ]
  },
  {
   "cell_type": "code",
   "execution_count": 22,
   "id": "db20c290",
   "metadata": {},
   "outputs": [],
   "source": [
    "# Source: https://stackoverflow.com/a/73998721\n",
    "\n",
    "def with_cv2(video: str):\n",
    "    \"\"\"\n",
    "    Link: https://pypi.org/project/opencv-python/\n",
    "    My comments:\n",
    "        I don't know why, but the last 4 or 5 timestamps are equal to 0 when they should not.\n",
    "        Also, cv2 is slow. It took my computer 132 seconds to process the video.\n",
    "\n",
    "\n",
    "    Parameters:\n",
    "        video (str): Video path\n",
    "    Returns:\n",
    "        List of timestamps in ms\n",
    "    \"\"\"\n",
    "    timestamps = []\n",
    "    cap = cv2.VideoCapture(video)\n",
    "\n",
    "    while cap.isOpened():\n",
    "        frame_exists, curr_frame = cap.read()\n",
    "        if frame_exists:\n",
    "            timestamps.append(round(cap.get(cv2.CAP_PROP_POS_MSEC)))\n",
    "        else:\n",
    "            break\n",
    "\n",
    "    cap.release()\n",
    "\n",
    "    return timestamps\n",
    "\n",
    "def with_pyav(video: str, index: int = 0):\n",
    "    \"\"\"\n",
    "    Link: https://pypi.org/project/av/\n",
    "    My comments:\n",
    "        Works really well, but it is slower than ffprobe.\n",
    "\n",
    "The big advantage is that ffmpeg does not have to be installed on the computer, because pyav installs it automatically\n",
    "\n",
    "    Parameters:\n",
    "        video (str): Video path\n",
    "        index (int): Stream index of the video.\n",
    "    Returns:\n",
    "        List of timestamps in ms\n",
    "    \"\"\"\n",
    "    container = av.open(video)\n",
    "    video = container.streams.get(index)[0]\n",
    "\n",
    "    if video.type != \"video\":\n",
    "            raise ValueError(\n",
    "                f'The index {index} is not a video stream. It is an {video.type} stream.'\n",
    "            )\n",
    "\n",
    "    av_timestamps = [\n",
    "        int(packet.pts * video.time_base * 1000) for packet in container.demux(video) if packet.pts is not None\n",
    "    ]\n",
    "\n",
    "    container.close()\n",
    "    av_timestamps.sort()\n",
    "\n",
    "    return av_timestamps"
   ]
  },
  {
   "cell_type": "code",
   "execution_count": 23,
   "id": "eded6853",
   "metadata": {},
   "outputs": [
    {
     "name": "stdout",
     "output_type": "stream",
     "text": [
      "With cv2 2.078125 seconds\n",
      "Records found: 2403\n",
      "[25, 67, 108, 136, 178, 206, 233, 275, 303, 344, 386, 400, 442, 469, 511, 539, 567, 608, 636, 678, 705, 733, 775, 803, 831, 872, 900, 942, 969, 1011, 1039, 1067, 1108, 1136, 1178, 1205, 1233, 1275, 1303, 1344, 1372, 1400, 1442, 1469, 1511, 1539, 1567, 1608, 1636, 1678]\n",
      "With av 0.03125 seconds\n",
      "Records found: 2403\n",
      "[25, 66, 108, 136, 177, 205, 233, 275, 302, 344, 386, 400, 441, 469, 511, 539, 566, 608, 636, 677, 705, 733, 775, 802, 830, 872, 900, 941, 969, 1011, 1039, 1066, 1108, 1136, 1177, 1205, 1233, 1275, 1302, 1344, 1372, 1400, 1441, 1469, 1511, 1538, 1566, 1608, 1636, 1677]\n"
     ]
    }
   ],
   "source": [
    "_URL = './samples/video_sample.mp4'\n",
    "_VIDEO_INDEX = 1\n",
    "\n",
    "start = time.process_time()\n",
    "cv2_timestamps = with_cv2(_URL)\n",
    "print(f\"With cv2 {time.process_time() - start} seconds\")\n",
    "print(f'Records found:', len(cv2_timestamps))\n",
    "print([ft+25 for ft in cv2_timestamps[:50]])\n",
    "\n",
    "start = time.process_time()\n",
    "av_timestamps = with_pyav(_URL, index=_VIDEO_INDEX)\n",
    "print(f\"With av {time.process_time() - start} seconds\")\n",
    "print(f'Records found:', len(av_timestamps))\n",
    "print(av_timestamps[:50])"
   ]
  },
  {
   "cell_type": "markdown",
   "id": "61c8d544",
   "metadata": {},
   "source": [
    "# TO-DOs:\n",
    "\n",
    "- Modify `deep-sort-app.py` to accept videos. Use the CV2 package for this. Even though it takes a while, it's compatible with frame extraction measures. It should output a DataFrame where each row contains 1) the timestamp since the start of the video, 2) the frame number, 4) the number of obstacles detected, and 4) the percentage of which is occupied detected obstacles."
   ]
  },
  {
   "cell_type": "code",
   "execution_count": 44,
   "id": "9082c5a7",
   "metadata": {},
   "outputs": [],
   "source": [
    "def create_dirs(d:str, remove_existing:bool=True):\n",
    "    Path(d).mkdir(parents=True, exist_ok=True)\n",
    "    if remove_existing:\n",
    "        for filename in os.listdir(d):\n",
    "            filepath = os.path.join(d, filename)\n",
    "            try:\n",
    "                if os.path.isfile(filepath) or os.path.islink(filepath):\n",
    "                    os.unlink(filepath)\n",
    "            except Exception as e:\n",
    "                print(\"Failed to delete %s. Reason: %s\" % (filepath, e))\n",
    "\n",
    "def extract_frames(video:str, output_dir:str):\n",
    "    # Output: both images and a dataframe linking images to timestamps.\n",
    "    \n",
    "    # Create output directory in files\n",
    "    create_dirs(output_dir)\n",
    "    frames_dir = os.path.join(output_dir, 'frames/')\n",
    "    create_dirs(frames_dir)\n",
    "    \n",
    "    timestamps = []\n",
    "    cap = cv2.VideoCapture(video)\n",
    "    frame_count = 0\n",
    "    \n",
    "    while cap.isOpened():\n",
    "        frame_exists, curr_frame = cap.read()\n",
    "        if frame_exists:\n",
    "            frame_count += 1\n",
    "            file_savename = os.path.join(frames_dir, f'{frame_count}.png')\n",
    "            file_dfname = f'./frames/{frame_count}.png'\n",
    "            # Record frame data\n",
    "            timestamps.append({\n",
    "                'frame_count':frame_count,\n",
    "                'width': round(cap.get(cv2.CAP_PROP_FRAME_WIDTH)),\n",
    "                'height': round(cap.get(cv2.CAP_PROP_FRAME_HEIGHT)),\n",
    "                'timestamp_ms':round(cap.get(cv2.CAP_PROP_POS_MSEC)),\n",
    "                'file':file_dfname\n",
    "            })\n",
    "            # Save image\n",
    "            cv2.imwrite(file_savename, curr_frame)\n",
    "        else:\n",
    "            break\n",
    "\n",
    "    # Close video stream\n",
    "    cap.release()\n",
    "    \n",
    "    # Record DataFrame\n",
    "    df = pd.DataFrame(timestamps)\n",
    "    \n",
    "    # Save DataFrame\n",
    "    df.to_csv(os.path.join(output_dir, 'timestamps.csv'), index=False)\n",
    "    \n",
    "    # Return\n",
    "    return timestamps"
   ]
  },
  {
   "cell_type": "code",
   "execution_count": 45,
   "id": "33ec4e3f",
   "metadata": {},
   "outputs": [],
   "source": [
    "ts = extract_frames(_URL, './samples/video_sample_timestamps/')"
   ]
  },
  {
   "cell_type": "code",
   "execution_count": null,
   "id": "02669593",
   "metadata": {},
   "outputs": [],
   "source": []
  }
 ],
 "metadata": {
  "kernelspec": {
   "display_name": "Python 3 (ipykernel)",
   "language": "python",
   "name": "python3"
  },
  "language_info": {
   "codemirror_mode": {
    "name": "ipython",
    "version": 3
   },
   "file_extension": ".py",
   "mimetype": "text/x-python",
   "name": "python",
   "nbconvert_exporter": "python",
   "pygments_lexer": "ipython3",
   "version": "3.10.7"
  }
 },
 "nbformat": 4,
 "nbformat_minor": 5
}
